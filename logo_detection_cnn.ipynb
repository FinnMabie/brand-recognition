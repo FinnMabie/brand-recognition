{
 "cells": [
  {
   "cell_type": "code",
   "execution_count": 32,
   "metadata": {},
   "outputs": [],
   "source": [
    "import tensorflow as tf\n",
    "import matplotlib.pyplot as plt\n",
    "import pandas as pd\n",
    "import cv2\n",
    "import numpy as np\n",
    "import webbrowser\n",
    "\n",
    "from tensorflow.keras.layers import Dense, Conv2D, MaxPooling2D, Flatten, GlobalAveragePooling2D, Dropout\n",
    "from tensorflow.keras.preprocessing import image\n",
    "from tensorflow.keras.models import Sequential, Model\n",
    "from tensorflow.keras.optimizers import Adam\n",
    "from tensorflow.keras.metrics import TopKCategoricalAccuracy\n",
    "\n",
    "from keras.models import model_from_json\n",
    "from keras.preprocessing.image import load_img\n",
    "from keras.preprocessing.image import img_to_array\n",
    "from keras.applications.densenet import preprocess_input"
   ]
  },
  {
   "cell_type": "code",
   "execution_count": 33,
   "metadata": {},
   "outputs": [],
   "source": [
    "# Load train images\n",
    "\n",
    "if not os.path.exists(\".model.h5\"):\n",
    "    train_datagen = image.ImageDataGenerator(rescale=1./255,\n",
    "        shear_range=0.2,\n",
    "        zoom_range=0.2,\n",
    "        horizontal_flip=True,\n",
    "        validation_split=0.2) # set validation split\n",
    "\n",
    "    train_generator = train_datagen.flow_from_directory(\n",
    "        '../input/car-brand-logos/Car_Brand_Logos/Train',\n",
    "        target_size=(224, 224),\n",
    "        batch_size=20,\n",
    "        class_mode='categorical',\n",
    "        subset='training') # set as training data\n",
    "\n",
    "    validation_generator = train_datagen.flow_from_directory(\n",
    "        '../input/car-brand-logos/Car_Brand_Logos/Train', # same directory as training data\n",
    "        target_size=(224, 224),\n",
    "        batch_size=20,\n",
    "        class_mode='categorical',\n",
    "        subset='validation',\n",
    "        shuffle=False) # set as validation data"
   ]
  },
  {
   "cell_type": "code",
   "execution_count": 34,
   "metadata": {},
   "outputs": [
    {
     "name": "stdout",
     "output_type": "stream",
     "text": [
      "Loaded model from disk\n"
     ]
    }
   ],
   "source": [
    "from keras.applications.vgg16 import VGG16\n",
    "\n",
    "if not os.path.exists(\".model.h5\"): \n",
    "    # load pretrained model\n",
    "    model = VGG16(weights='imagenet', include_top=False, input_shape=(224,224,3))\n",
    "\n",
    "    # add trainable layers on top\n",
    "    x = Flatten()(model.output)\n",
    "    x = Dense(100, activation='relu')(x)\n",
    "    x = Dense(100, activation='relu')(x)\n",
    "    x = Dropout(0.05)(x)\n",
    "    x = Dense(100, activation='relu')(x)\n",
    "    x = Dropout(0.05)(x)\n",
    "    predictions = Dense(8, activation='softmax')(x) \n",
    "\n",
    "    # set pre trained layers to not trainable\n",
    "    full_model = Model(inputs=model.input, outputs=predictions)\n",
    "    for layer in model.layers:\n",
    "        layer.trainable = False\n",
    "        \n",
    "    # For training\n",
    "\n",
    "    full_model.compile(loss='categorical_crossentropy',\n",
    "                      optimizer=Adam(learning_rate=0.001),\n",
    "                      metrics=['acc', TopKCategoricalAccuracy(k=3)])\n",
    "    history = full_model.fit_generator(\n",
    "        train_generator, \n",
    "        validation_data = validation_generator,\n",
    "        workers=10,\n",
    "        epochs=10\n",
    "    )\n",
    "    \n",
    "    # save model\n",
    "    model_json = full_model.to_json()\n",
    "    with open(\"model.json\", \"w\") as json_file:\n",
    "        json_file.write(model_json)\n",
    "    full_model.save_weights(\"model.h5\")\n",
    "else:\n",
    "    json_file = open('model.json', 'r')\n",
    "    loaded_model_json = json_file.read()\n",
    "    json_file.close()\n",
    "    loaded_model = model_from_json(loaded_model_json)\n",
    "    # load weights into new model\n",
    "    loaded_model.load_weights(\".model.h5\")\n",
    "    print(\"Loaded model from disk\")"
   ]
  },
  {
   "cell_type": "code",
   "execution_count": 35,
   "metadata": {},
   "outputs": [],
   "source": [
    "def process_image(image):\n",
    "    \n",
    "    image = cv2.resize(image, (224, 224), interpolation = cv2.INTER_AREA)\n",
    "    image = cv2.cvtColor(image, cv2.COLOR_BGR2RGB)\n",
    "    return image"
   ]
  },
  {
   "cell_type": "code",
   "execution_count": 36,
   "metadata": {},
   "outputs": [],
   "source": [
    "labels = [\"hyundai\", \"lexus\", \"mazda\", \"mercedes\", \"opes\", \"skoda\", \"toyata\", \"volkswagen\"]\n",
    "\n",
    "def PredictImage(imgPath):\n",
    "    global prediction\n",
    "    global top3\n",
    "    \n",
    "    # preprocess image\n",
    "    image = load_img(imgPath, target_size=(224, 224))\n",
    "    image = img_to_array(image)\n",
    "    image = image.reshape((1, image.shape[0], image.shape[1], image.shape[2]))\n",
    "    image = preprocess_input(image)\n",
    "\n",
    "    results = loaded_model.predict(image)\n",
    "    pred = np.argmax(results)\n",
    "    prediction = labels[pred]\n",
    "    \n",
    "    top_values_index = sorted(range(len(results[0])), key=lambda i: results[0][i])[-3:]\n",
    "    top3ind = top_values_index[::-1]\n",
    "    top3 = [labels[top3ind[0]], labels[top3ind[1]], labels[top3ind[2]]]\n",
    "    \n",
    "    return prediction, top3"
   ]
  },
  {
   "cell_type": "code",
   "execution_count": 37,
   "metadata": {},
   "outputs": [
    {
     "name": "stdout",
     "output_type": "stream",
     "text": [
      "WARNING:tensorflow:AutoGraph could not transform <function Model.make_predict_function.<locals>.predict_function at 0x7fbab6153b90> and will run it as-is.\n",
      "Please report this to the TensorFlow team. When filing the bug, set the verbosity to 10 (on Linux, `export AUTOGRAPH_VERBOSITY=10`) and attach the full output.\n",
      "Cause: 'arguments' object has no attribute 'posonlyargs'\n",
      "To silence this warning, decorate the function with @tf.autograph.experimental.do_not_convert\n",
      "WARNING: AutoGraph could not transform <function Model.make_predict_function.<locals>.predict_function at 0x7fbab6153b90> and will run it as-is.\n",
      "Please report this to the TensorFlow team. When filing the bug, set the verbosity to 10 (on Linux, `export AUTOGRAPH_VERBOSITY=10`) and attach the full output.\n",
      "Cause: 'arguments' object has no attribute 'posonlyargs'\n",
      "To silence this warning, decorate the function with @tf.autograph.experimental.do_not_convert\n"
     ]
    }
   ],
   "source": [
    "cap = cv2.VideoCapture(0)\n",
    "\n",
    "# Check if the webcam is opened correctly\n",
    "if not cap.isOpened():\n",
    "    raise IOError(\"Cannot open webcam\")\n",
    "\n",
    "i = 0\n",
    "while True:\n",
    "    ret, frame = cap.read()\n",
    "    \n",
    "    frame = cv2.resize(frame, None, fx=0.5, fy=0.5, interpolation=cv2.INTER_AREA)\n",
    "    cv2.imshow(\"Brand Detector\", frame)\n",
    "    frame = process_image(frame)\n",
    "    frame = frame.reshape(1,224,224,3)\n",
    "    if i % 20 == 0:\n",
    "        # predict and get three top most likely brands\n",
    "        prediction = loaded_model.predict(frame)\n",
    "        top_values_index = sorted(range(len(prediction[0])), key=lambda i: prediction[0][i])[-3:]\n",
    "        \n",
    "        # grab labels\n",
    "        top3ind = top_values_index[::-1]\n",
    "        top3 = [labels[top3ind[0]], labels[top3ind[1]], labels[top3ind[2]]]\n",
    "        p_val = np.max(prediction)\n",
    "        prediction = labels[np.argmax(prediction)]\n",
    "        if p_val >= 1.0:\n",
    "            webbrowser.open(\"http://\"+str(prediction)+ \".com\")  # Go to example.com\n",
    "            break\n",
    "            \n",
    "    c = cv2.waitKey(1)\n",
    "    i += 1\n",
    "    \n",
    "    if c == 27:\n",
    "        break\n",
    "        \n",
    "cap.release()\n",
    "cv2.destroyAllWindows()"
   ]
  },
  {
   "cell_type": "code",
   "execution_count": null,
   "metadata": {},
   "outputs": [],
   "source": []
  }
 ],
 "metadata": {
  "kernelspec": {
   "display_name": "Python 3 (ipykernel)",
   "language": "python",
   "name": "python3"
  },
  "language_info": {
   "codemirror_mode": {
    "name": "ipython",
    "version": 3
   },
   "file_extension": ".py",
   "mimetype": "text/x-python",
   "name": "python",
   "nbconvert_exporter": "python",
   "pygments_lexer": "ipython3",
   "version": "3.7.4"
  }
 },
 "nbformat": 4,
 "nbformat_minor": 4
}
